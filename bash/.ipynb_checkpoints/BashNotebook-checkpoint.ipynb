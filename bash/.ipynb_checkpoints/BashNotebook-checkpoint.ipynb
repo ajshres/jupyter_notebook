{
 "cells": [
  {
   "cell_type": "markdown",
   "metadata": {},
   "source": [
    "# Bash Tutorial 101\n",
    "\n",
    "Basic Commands "
   ]
  },
  {
   "cell_type": "markdown",
   "metadata": {},
   "source": [
    "# Files and Directories\n",
    "\n",
    "1. Make new file\n",
    "    - `touch fileName.ext`\n",
    "\n",
    "2. Make new directory\n",
    "    - `mkdir notebook`\n",
    "\n",
    "3. Enter the directory or change\n",
    "    - `cd notebook`\n",
    "\n",
    "4. Get out from the directory\n",
    "    - `cd ..`\n",
    "\n",
    "5. List directory\n",
    "    - `ls`\n",
    "    - `ls -1`\n",
    "    - `ls --all` or `ls -a`\n",
    "    - `ls -l`\n",
    "\n",
    "6. view file\n",
    "\n",
    "    - `cat file_name.ext`\n",
    "    \n",
    "7. Rename or move files/Directories\n",
    "    - `mv old_file_name.ext new_file_name.ext`\n",
    "    - `mv file_name destination_directory`\n",
    "    - `mv file_name destination_directory`\n",
    "\n",
    "8. Copy files or Directories\n",
    "    - `cp old_file_name.ext new_file_name.ext`\n",
    "    - `cp -R old_dir new_dir`\n",
    "    \n",
    "9. Current Directories\n",
    "    - `pwd`\n"
   ]
  },
  {
   "cell_type": "code",
   "execution_count": null,
   "metadata": {},
   "outputs": [],
   "source": []
  },
  {
   "cell_type": "markdown",
   "metadata": {},
   "source": [
    "# List Files\n",
    "You can use the `ls` command to show all the files in the current directory."
   ]
  },
  {
   "cell_type": "markdown",
   "metadata": {},
   "source": [
    "Type the following command:\n",
    "\n",
    "`ls`"
   ]
  },
  {
   "cell_type": "code",
   "execution_count": null,
   "metadata": {},
   "outputs": [],
   "source": []
  },
  {
   "cell_type": "markdown",
   "metadata": {},
   "source": [
    "Type the following command:\n",
    "\n",
    "`ls -1`"
   ]
  },
  {
   "cell_type": "code",
   "execution_count": null,
   "metadata": {},
   "outputs": [],
   "source": []
  },
  {
   "cell_type": "markdown",
   "metadata": {},
   "source": [
    "Type the following command\n",
    "\n",
    "`ls / -1`"
   ]
  },
  {
   "cell_type": "code",
   "execution_count": null,
   "metadata": {},
   "outputs": [],
   "source": []
  },
  {
   "cell_type": "markdown",
   "metadata": {},
   "source": [
    "Type the follwing command:\n",
    "\n",
    "`ls / -l`"
   ]
  },
  {
   "cell_type": "code",
   "execution_count": null,
   "metadata": {},
   "outputs": [],
   "source": []
  },
  {
   "cell_type": "markdown",
   "metadata": {},
   "source": [
    "Type the follwing command:\n",
    "\n",
    "`ls / -a #ls / -al`"
   ]
  },
  {
   "cell_type": "code",
   "execution_count": null,
   "metadata": {},
   "outputs": [],
   "source": []
  },
  {
   "cell_type": "markdown",
   "metadata": {},
   "source": [
    "# alias\n",
    "\n",
    "`alias ls = 'ls -F --color=auto'`\n",
    "\n",
    "`alias fgrep = 'fgrep --color=auto'`\n",
    "\n",
    "`alias sudo = 'sudo -E'`\n"
   ]
  },
  {
   "cell_type": "markdown",
   "metadata": {},
   "source": [
    "# curl\n",
    "curl is a tool to transfer data from or to a server, using one of the supported protocols (DICT, FILE, FTP, FTPS, GOPHER, HTTP, HTTPS, IMAP, IMAPS, LDAP, LDAPS, POP3, POP3S, RTMP, RTSP, SCP, SFTP, SMB, SMBS, SMTP, SMTPS, TELNET and TFTP). The command is designed to work without user interaction.\n",
    "\n",
    "Example:\n",
    "`curl -s https://www.gutenberg.org/files/2701/2701-0.txt`"
   ]
  },
  {
   "cell_type": "code",
   "execution_count": null,
   "metadata": {},
   "outputs": [],
   "source": []
  },
  {
   "cell_type": "markdown",
   "metadata": {},
   "source": [
    "# Unzip\n",
    "\n",
    "`tar xzf file.tar.gz`\n",
    "\n",
    "```\n",
    "The letters are:\n",
    "\n",
    "x - extract\n",
    "z - gunzip the input\n",
    "f - Read from a file, not stdin\n",
    "```\n"
   ]
  },
  {
   "cell_type": "code",
   "execution_count": null,
   "metadata": {},
   "outputs": [],
   "source": []
  },
  {
   "cell_type": "markdown",
   "metadata": {},
   "source": [
    "# Gunzip\n",
    "\n",
    "```\n",
    "The gzip program compresses and decompresses files\tusing Lempel-Ziv coding (LZ77). If no files are specified, gzip will compress from standard input, or decompress to standard output.  When in compression mode, each file will be replaced with\tanother\tfile with the suffix, set by the -S suffix option, added, if possible.\n",
    "```\n",
    "\n",
    "[Man Page](https://www.freebsd.org/cgi/man.cgi?query=gunzip&sektion=1)\n",
    "\n",
    "Example: `curl -s https://www.gutenberg.org/files/2701/2701-0.txt | gunzip`\n",
    "\n"
   ]
  },
  {
   "cell_type": "code",
   "execution_count": null,
   "metadata": {},
   "outputs": [],
   "source": []
  },
  {
   "cell_type": "markdown",
   "metadata": {},
   "source": [
    "# Calendar and Dates\n",
    "\n",
    "`curl wttr.in/tehran`\n",
    "\n",
    "`cal`\n",
    "\n",
    "`date`\n",
    "\n",
    "`date +'%F %T'`"
   ]
  },
  {
   "cell_type": "code",
   "execution_count": null,
   "metadata": {},
   "outputs": [],
   "source": []
  },
  {
   "cell_type": "markdown",
   "metadata": {},
   "source": [
    "# Sed\n",
    "Sed is a stream editor. A stream editor is used to perform basic text transformations on an input stream (a file or input from a pipeline). While in some ways similar to an editor which permits scripted edits (such as ed), sed works by making only one pass over the input(s), and is consequently more efficient. But it is sed's ability to filter text in a pipeline which particularly distinguishes it from other types of editors.\n",
    "\n",
    "Example: `echo abc def ghi jkl | sed -r 's/\\s+/\\n/g'`\n",
    "\n",
    "References [1](http://www.grymoire.com/Unix/Sed.html#uh-0)"
   ]
  },
  {
   "cell_type": "code",
   "execution_count": null,
   "metadata": {},
   "outputs": [],
   "source": []
  },
  {
   "cell_type": "markdown",
   "metadata": {},
   "source": [
    "# PERMISSIONS\n",
    "\n",
    "- three kinds and three categories\n",
    "- u - users\n",
    "- g - group\n",
    "- o - others\n",
    "\n",
    "- r - read\n",
    "- w - write\n",
    "- x - execute\n",
    "\n",
    "# chmod\n",
    "- 4 for write\n",
    "- 2 for read\n",
    "- 1 for execute\n",
    "\n",
    "# examples\n",
    "\n",
    "to grant write permission to group. + for grant, - to revoke permission\n",
    "\n",
    "`chmod g+w test.txt`\n",
    "\n",
    "`chmod gu+rwx test.txt`\n",
    "\n",
    "`chmod o-w test.txt`"
   ]
  },
  {
   "cell_type": "code",
   "execution_count": null,
   "metadata": {},
   "outputs": [],
   "source": []
  },
  {
   "cell_type": "markdown",
   "metadata": {},
   "source": [
    "# Exit Codes\n",
    "\n",
    "`echo $?`\n",
    "\n",
    "**test if file exist**\n",
    "\n",
    "`test -f cool.txt`\n",
    "\n",
    "** if else statement**\n",
    "\n",
    "`if test -f cool.txt; then echo true; else echo false; fi`"
   ]
  },
  {
   "cell_type": "code",
   "execution_count": null,
   "metadata": {},
   "outputs": [],
   "source": []
  },
  {
   "cell_type": "markdown",
   "metadata": {},
   "source": [
    "---\n",
    "# Job Control\n",
    "`watch -n1 date`\n",
    "\n",
    "`Ctrl + C` - Terminates a process in the foreground\n",
    "\n",
    "`Ctrl + Z` - Put a process in the background (from foreground)\n",
    "\n",
    "`fg` - Put back the process from the background to foreground\n",
    "\n",
    "`jobs` - to see the process in the background\n",
    "\n",
    "`fg %1` - to put first job from background to foreground\n",
    "\n",
    "`kill %2` - kill second job\n",
    "\n",
    "`kill -9 %2` - force kill second job. use `man kill` and `man signal` for more help\n",
    "\n",
    "`pgrep` - command to search all the process with name\n",
    "\n",
    "`pgrep watch`\n",
    "\n",
    "`pkill watch` - kill with name\n",
    "`kill {ID}`\n",
    "\n",
    "**Example found**\n",
    "\n",
    "`trap 'kill $!' SIGTERM SIGKILL`"
   ]
  },
  {
   "cell_type": "code",
   "execution_count": null,
   "metadata": {},
   "outputs": [],
   "source": []
  }
 ],
 "metadata": {
  "kernelspec": {
   "display_name": "Bash",
   "language": "bash",
   "name": "bash"
  },
  "language_info": {
   "codemirror_mode": "shell",
   "file_extension": ".sh",
   "mimetype": "text/x-sh",
   "name": "bash"
  }
 },
 "nbformat": 4,
 "nbformat_minor": 2
}
