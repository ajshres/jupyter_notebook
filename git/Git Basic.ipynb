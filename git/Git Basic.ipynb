{
 "cells": [
  {
   "cell_type": "markdown",
   "metadata": {},
   "source": [
    "[ref](https://git-scm.com/docs/gittutorial)\n",
    "\n",
    "# Git Commits\n",
    "\n",
    "*A commit in a git repository records a snapshot of all the files in your directory. It's like a giant copy and paste, but even better. It smartly make copies of only changes to your files and directories. It can (when possible) compress a commit as a set of changes, or a \"delta\", from one version of the repository to the next.*\n",
    "\n",
    "*Git also maintains a history of which commits were made when.*\n",
    "\n",
    "`git add .`\n",
    "\n",
    "`git commit`\n",
    "\n",
    "***OR***\n",
    "\n",
    "`git commit -am`\n"
   ]
  },
  {
   "cell_type": "markdown",
   "metadata": {},
   "source": [
    "# Git Branching\n",
    "\n",
    "*Branches in Git are incredibly lightweight as well. They are simply pointers to a specific commit -- nothing more.*\n",
    "\n",
    "To See list of branches\n",
    "\n",
    "`git branch`\n",
    "\n",
    "Create new branch name develop\n",
    "\n",
    "`git branch develop`\n",
    "\n",
    "This will create a new branch name develop but, it will not be active. To activate the develop branch\n",
    "\n",
    "`git checkout develop`\n",
    "\n",
    "Now all new commits will be added to branch develop\n",
    "\n",
    "To Create a new branch and switch immediately to the newly created branch, use following command:\n",
    "\n",
    "`git checkout -b develop`\n",
    "\n",
    "\n",
    "\n"
   ]
  },
  {
   "cell_type": "markdown",
   "metadata": {},
   "source": [
    "# Merging\n",
    "\n",
    "`git checkout master`\n",
    "\n",
    "`git merge develop`\n",
    "\n",
    "This will merge all the commits and changes added to develop branch into master branch. So all the changes will also be available in master branch\n",
    "\n"
   ]
  },
  {
   "cell_type": "markdown",
   "metadata": {},
   "source": [
    "# HEAD\n",
    "\n",
    "*HEAD always points to the most recent commit which is reflected in the working tree. Most git commands which make changes to the working tree will start by changing HEAD.*\n",
    "\n"
   ]
  }
 ],
 "metadata": {
  "kernelspec": {
   "display_name": "Bash",
   "language": "bash",
   "name": "bash"
  },
  "language_info": {
   "codemirror_mode": "shell",
   "file_extension": ".sh",
   "mimetype": "text/x-sh",
   "name": "bash"
  }
 },
 "nbformat": 4,
 "nbformat_minor": 2
}
